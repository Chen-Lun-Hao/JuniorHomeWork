{
 "cells": [
  {
   "cell_type": "code",
   "execution_count": 2,
   "metadata": {},
   "outputs": [
    {
     "name": "stdout",
     "output_type": "stream",
     "text": [
      "100\n"
     ]
    }
   ],
   "source": [
    "#不同字串\n",
    "\n",
    "a = input()\n",
    "num = len(a)\n",
    "searchstr = []\n",
    "for i in range(num):\n",
    "    for j in range(num):\n",
    "        if str(a[j:j+i:]) not in searchstr:\n",
    "            searchstr.append(str(a[j:j+i:]))\n",
    "print(len(searchstr))"
   ]
  },
  {
   "cell_type": "code",
   "execution_count": 4,
   "metadata": {},
   "outputs": [
    {
     "name": "stdout",
     "output_type": "stream",
     "text": [
      "BYQ"
     ]
    }
   ],
   "source": [
    "#26进制换成字母\n",
    "string = 'ABCDEFGHIJKLMNOPQRSTUVWXYZ'\n",
    "num = 2019\n",
    "yu = []\n",
    "while num >= 26:\n",
    "    yu.append(num%26)\n",
    "    num = num//26\n",
    "yu.append(num)\n",
    "for i in yu[::-1]:\n",
    "    print(string[i-1],end='')"
   ]
  },
  {
   "cell_type": "code",
   "execution_count": 1,
   "metadata": {},
   "outputs": [
    {
     "name": "stdout",
     "output_type": "stream",
     "text": [
      "4659\n"
     ]
    }
   ],
   "source": [
    "#数列求值\n",
    "arr = [0 for i in range(20190324)]\n",
    "arr[0]=arr[1]=arr[2]=1\n",
    "for i in range(3,20190324):\n",
    "    arr[i] = (arr[i - 1] + arr[i - 2] + arr[i - 3]) % 10000\n",
    "print(arr[-1])\n"
   ]
  },
  {
   "cell_type": "code",
   "execution_count": 2,
   "metadata": {},
   "outputs": [
    {
     "name": "stdout",
     "output_type": "stream",
     "text": [
      "40785\n"
     ]
    }
   ],
   "source": [
    "#数的分解\n",
    "n = 2019\n",
    "count = 0\n",
    "def check(n):\n",
    "    n_str = list(str(n))\n",
    "    if '2' not in n_str:\n",
    "        if '4' not in n_str:\n",
    "            return True\n",
    "    return False\n",
    "for i in range(1,676):\n",
    "    for j in range(i+1,1345):\n",
    "        if check(i) and check(j):\n",
    "            k = n - i - j\n",
    "            if k > j and check(k):\n",
    "                count += 1\n",
    "print(count)\n"
   ]
  },
  {
   "cell_type": "code",
   "execution_count": 3,
   "metadata": {},
   "outputs": [
    {
     "ename": "ValueError",
     "evalue": "too many values to unpack (expected 2)",
     "output_type": "error",
     "traceback": [
      "\u001b[1;31m---------------------------------------------------------------------------\u001b[0m",
      "\u001b[1;31mValueError\u001b[0m                                Traceback (most recent call last)",
      "\u001b[1;32md:\\JuniorHomeWork\\LeetCode\\蓝桥杯练习.ipynb Cell 5\u001b[0m in \u001b[0;36m<cell line: 1>\u001b[1;34m()\u001b[0m\n\u001b[1;32m----> <a href='vscode-notebook-cell:/d%3A/JuniorHomeWork/LeetCode/%E8%93%9D%E6%A1%A5%E6%9D%AF%E7%BB%83%E4%B9%A0.ipynb#W4sZmlsZQ%3D%3D?line=0'>1</a>\u001b[0m m, n \u001b[39m=\u001b[39m \u001b[39mmap\u001b[39m(\u001b[39mint\u001b[39m, \u001b[39minput\u001b[39m()\u001b[39m.\u001b[39msplit())\n\u001b[0;32m      <a href='vscode-notebook-cell:/d%3A/JuniorHomeWork/LeetCode/%E8%93%9D%E6%A1%A5%E6%9D%AF%E7%BB%83%E4%B9%A0.ipynb#W4sZmlsZQ%3D%3D?line=1'>2</a>\u001b[0m map_int \u001b[39m=\u001b[39m [[\u001b[39m1\u001b[39m]\u001b[39m*\u001b[39m(n\u001b[39m+\u001b[39m\u001b[39m2\u001b[39m)]\n\u001b[0;32m      <a href='vscode-notebook-cell:/d%3A/JuniorHomeWork/LeetCode/%E8%93%9D%E6%A1%A5%E6%9D%AF%E7%BB%83%E4%B9%A0.ipynb#W4sZmlsZQ%3D%3D?line=2'>3</a>\u001b[0m \u001b[39mfor\u001b[39;00m i \u001b[39min\u001b[39;00m \u001b[39mrange\u001b[39m(\u001b[39m1\u001b[39m, m\u001b[39m+\u001b[39m\u001b[39m1\u001b[39m):\n",
      "\u001b[1;31mValueError\u001b[0m: too many values to unpack (expected 2)"
     ]
    }
   ],
   "source": [
    "m, n = map(int, input().split())\n",
    "map_int = [[1]*(n+2)]\n",
    "for i in range(1, m+1):\n",
    "    map_int.append([1] * (n+2))\n",
    "    nums = input()\n",
    "    nums = \"1\" + nums  # 先建立一个二维数组，再将输入以int类型放入\n",
    "    for j in range(1, n+1):\n",
    "        map_int[i][j] = ord(nums[j]) - 48#先建立一个二维数组，再将输入以int类型放入\n",
    "    map_int[i][-1] = 1\n",
    "map_int.append([1] * (n+2))\n",
    "dirs = [\n",
    "    lambda x, y: (x+1,y),\n",
    "    lambda x, y: (x-1,y),\n",
    "    lambda x, y: (x,y+1),\n",
    "    lambda x, y: (x,y-1),\n",
    "]\n",
    "def prin_path(path):\n",
    "    prin_path = []\n",
    "    action = []\n",
    "    curNode = path[-1]\n",
    "    while curNode[2] != -1:\n",
    "        prin_path.append(curNode)\n",
    "        curNode = path[curNode[2]]\n",
    "    prin_path.reverse()\n",
    "    for node in prin_path:\n",
    "        if node[3] == 1:\n",
    "            action.append('D')\n",
    "        elif node[3] == 2:\n",
    "            action.append('U')\n",
    "        elif node[3] == 3:\n",
    "            action.append('R')\n",
    "        elif node[3] == 4:\n",
    "            action.append('L')\n",
    "    print(len(prin_path))\n",
    "    print(\"\".join(action))\n",
    "def breath_search(x1,y1,x2,y2):\n",
    "    queue = []\n",
    "    path = []\n",
    "    queue.append((x1,y1,-1,-1))\n",
    "    while len(queue)>0 :\n",
    "        curNode = queue.pop(0)\n",
    "        path.append(curNode)\n",
    "        if curNode[0] == x2 and curNode[1] == y2:\n",
    "            prin_path(path)\n",
    "            return True\n",
    "        count = 0\n",
    "        for dir in dirs:\n",
    "            nextNode = dir(curNode[0],curNode[1])\n",
    "            count += 1\n",
    "            if map_int[nextNode[0]][nextNode[1]] == 0:\n",
    "                queue.append((nextNode[0],nextNode[1],len(path)-1,count))\n",
    "                map_int[nextNode[0]][nextNode[1]] = 2\n",
    "    else:\n",
    "        print('无路')\n",
    "        return False\n",
    "breath_search(1,1,m,n)"
   ]
  }
 ],
 "metadata": {
  "kernelspec": {
   "display_name": "base",
   "language": "python",
   "name": "python3"
  },
  "language_info": {
   "codemirror_mode": {
    "name": "ipython",
    "version": 3
   },
   "file_extension": ".py",
   "mimetype": "text/x-python",
   "name": "python",
   "nbconvert_exporter": "python",
   "pygments_lexer": "ipython3",
   "version": "3.9.12"
  },
  "orig_nbformat": 4,
  "vscode": {
   "interpreter": {
    "hash": "b09ec625f77bf4fd762565a912b97636504ad6ec901eb2d0f4cf5a7de23e1ee5"
   }
  }
 },
 "nbformat": 4,
 "nbformat_minor": 2
}
