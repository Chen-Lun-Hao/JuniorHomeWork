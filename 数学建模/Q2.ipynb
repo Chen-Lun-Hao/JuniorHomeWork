{
 "cells": [
  {
   "cell_type": "code",
   "execution_count": 1,
   "metadata": {},
   "outputs": [],
   "source": [
    "import pandas as pd"
   ]
  },
  {
   "cell_type": "code",
   "execution_count": 2,
   "metadata": {},
   "outputs": [],
   "source": [
    "#清洗测试集\n",
    "df_test = pd.read_excel(\"C:/Users/20851/Desktop/2022年MathorCup大数据竞赛-赛道B初赛/清洗后语音满意度测试数据.xlsx\")\n",
    "df_train = pd.read_excel(\"C:/Users/20851/Desktop/2022年MathorCup大数据竞赛-赛道B初赛/清洗后语音满意度数据.xlsx\")"
   ]
  },
  {
   "cell_type": "code",
   "execution_count": 3,
   "metadata": {},
   "outputs": [],
   "source": [
    "# #先清洗测试集\n",
    "# #删除8列无用数据\n",
    "# del df_test['用户id']\n",
    "# del df_test['用户描述']\n",
    "# del df_test['用户描述.1']\n",
    "# del df_test['终端品牌']\n",
    "# del df_test['终端品牌类型']\n",
    "# del df_test['性别']\n",
    "# del df_test['是否投诉']\n",
    "# del df_test['是否不限量套餐到达用户']\n",
    "\n",
    "# df_test.iloc[:,0] = df_test.iloc[:,0].map({1:1,2:0})\n",
    "# for i in range(1,16):\n",
    "#     df_test.iloc[:,i] = df_test.iloc[:,i].map({-1:0,1:1,2:1,3:1,4:1,5:1,6:1,7:1,98:1})\n",
    "# df_test.iloc[:,19] = df_test.iloc[:,19].map({'2G':2,'4G':4,'5G':5})\n",
    "# for i in ['是否关怀用户', '是否4G网络客户（本地剔除物联网）', '是否5G网络客户']:\n",
    "#     df_test[i] = df_test[i].fillna(0).map({0:0,'是':1,'否':0})#29,30,33,45,46\n",
    "# df_test['客户星级标识'] = df_test['客户星级标识'].fillna(0).map({'未评级':0,'准星':0, '一星':1,'二星':2,'三星':3, '白金卡':4, '钻石卡':5, '银卡':6,'金卡':7})\n",
    "# #保存成excel文件\n",
    "# df_test.to_excel(\"C:/Users/20851/Desktop/2022年MathorCup大数据竞赛-赛道B初赛/清洗后语音满意度测试数据.xlsx\",index=None)\n"
   ]
  },
  {
   "cell_type": "code",
   "execution_count": 4,
   "metadata": {},
   "outputs": [
    {
     "name": "stdout",
     "output_type": "stream",
     "text": [
      "['是否遇到过网络问题', '居民小区', '办公室', '高校', '商业街', '地铁', '农村', '高铁', '其他，请注明', '手机没有信号', '有信号无法拨通', '通话过程中突然中断', '通话中有杂音、听不清、断断续续', '串线', '通话过程中一方听不见', '其他，请注明.1', '脱网次数', 'mos质差次数', '未接通掉话次数', '4\\\\5G用户', '是否关怀用户', '套外流量（MB）', '是否4G网络客户（本地剔除物联网）', '套外流量费（元）', '外省语音占比', '语音通话-时长（分钟）', '省际漫游-时长（分钟）', '当月ARPU', '当月MOU', '前3月ARPU', '前3月MOU', '外省流量占比', 'GPRS总流量（KB）', 'GPRS-国内漫游-流量（KB）', '是否5G网络客户', '客户星级标识']\n",
      "36\n",
      "['语音通话整体满意度', '网络覆盖与信号强度', '语音通话清晰度', '语音通话稳定性', '是否遇到过网络问题', '居民小区', '办公室', '高校', '商业街', '地铁', '农村', '高铁', '其他，请注明', '手机没有信号', '有信号无法拨通', '通话过程中突然中断', '通话中有杂音、听不清、断断续续', '串线', '通话过程中一方听不见', '其他，请注明.1', '脱网次数', 'mos质差次数', '未接通掉话次数', '重定向次数', '重定向驻留时长', '家宽投诉', '资费投诉', '4\\\\5G用户', '语音方式', '是否关怀用户', '是否去过营业厅', 'ARPU（家庭宽带）', '套外流量（MB）', '是否4G网络客户（本地剔除物联网）', '套外流量费（元）', '外省语音占比', '语音通话-时长（分钟）', '省际漫游-时长（分钟）', '当月ARPU', '当月MOU', '前3月ARPU', '前3月MOU', '外省流量占比', 'GPRS总流量（KB）', 'GPRS-国内漫游-流量（KB）', '是否5G网络客户', '是否实名登记用户', '客户星级标识', '当月欠费金额', '前第3个月欠费金额']\n"
     ]
    }
   ],
   "source": [
    "c_test = list(df_test.columns)\n",
    "c_train = list(df_train.columns)\n",
    "\n",
    "all_columns = []\n",
    "#获取两者都有的列\n",
    "for i in c_test:\n",
    "    if i in c_train:#当i在两边都有时\n",
    "        all_columns.append(i)\n",
    "print(all_columns)\n",
    "print(len(all_columns))\n",
    "print(list(df_train.columns))\n"
   ]
  },
  {
   "cell_type": "code",
   "execution_count": 5,
   "metadata": {},
   "outputs": [],
   "source": [
    "#准备数据集\n",
    "train_X = df_train.loc[:,all_columns].values\n",
    "train_Y1 = df_train.loc[:,'语音通话整体满意度'].values\n",
    "train_Y2 = df_train.loc[:,'网络覆盖与信号强度'].values\n",
    "train_Y3 = df_train.loc[:,'语音通话清晰度'].values\n",
    "train_Y4 = df_train.loc[:,'语音通话稳定性'].values\n",
    "\n",
    "test_X = df_test.loc[:,all_columns].values\n",
    "\n",
    "# 将数据分为训练集和测试集\n",
    "from sklearn.model_selection import train_test_split\n",
    "import numpy as np\n",
    "\n",
    "# X_train, X_test, y_train, y_test = train_test_split(train_X,\n",
    "#                                                     train_Y4,\n",
    "#                                                     test_size=0.1,\n",
    "#                                                     random_state=0)\n",
    "\n",
    "# 训练随机森林解决回归问题\n",
    "from sklearn.ensemble import RandomForestRegressor\n",
    "from sklearn.tree import DecisionTreeClassifier\n",
    "\n",
    "def train(regressor, X_train, y_train):\n",
    "     \n",
    "      regressor.fit(X_train, y_train)\n",
    "      # X_test = X_train[0:500,:]\n",
    "      # y_test = y_train[0:500]\n",
    "      y_pred = regressor.predict(X_train)\n",
    "\n",
    "      y_pred = np.round(y_pred)\n",
    "      y_test = np.round(y_train).astype(np.float64)\n",
    "\n",
    "      print(y_pred[0:10])\n",
    "      print(y_test[0:10])\n",
    "\n",
    "      print(np.sum(y_pred==y_test))\n",
    "      print(y_pred.shape[0])\n",
    "\n",
    "      # 评估回归性能\n",
    "      from sklearn import metrics\n",
    "\n",
    "\n",
    "      print('Mean Absolute Error:', metrics.mean_absolute_error(y_test, y_pred))\n",
    "      print('Mean Squared Error:', metrics.mean_squared_error(y_test, y_pred))\n",
    "      print('Root Mean Squared Error:',\n",
    "      np.sqrt(metrics.mean_squared_error(y_test, y_pred)))\n",
    "      return y_pred\n",
    "\n"
   ]
  },
  {
   "cell_type": "code",
   "execution_count": 6,
   "metadata": {},
   "outputs": [
    {
     "name": "stdout",
     "output_type": "stream",
     "text": [
      "[10  2 10  6  5  7  8 10 10 10]\n",
      "[10.  2. 10.  6.  5.  7.  8. 10. 10. 10.]\n",
      "5427\n",
      "5427\n",
      "Mean Absolute Error: 0.0\n",
      "Mean Squared Error: 0.0\n",
      "Root Mean Squared Error: 0.0\n"
     ]
    }
   ],
   "source": [
    "regressor1 = DecisionTreeClassifier()\n",
    "y1 = train(regressor1,X_train=train_X,y_train=train_Y1)"
   ]
  },
  {
   "cell_type": "code",
   "execution_count": 7,
   "metadata": {},
   "outputs": [
    {
     "name": "stdout",
     "output_type": "stream",
     "text": [
      "[ 8.  7. 10.  8.  7.  8.  9. 10. 10.  9.]\n",
      "[10.  2. 10.  6.  5.  7.  8. 10. 10. 10.]\n",
      "2843\n",
      "5427\n",
      "Mean Absolute Error: 0.9845218352681039\n",
      "Mean Squared Error: 3.3795835636631657\n",
      "Root Mean Squared Error: 1.8383643718433964\n"
     ]
    }
   ],
   "source": [
    "regressor1 = RandomForestRegressor(n_estimators=200, random_state=1,max_depth=7,oob_score=True,criterion='absolute_error',bootstrap=True)\n",
    "y1 = train(regressor1,X_train=train_X,y_train=train_Y1)"
   ]
  },
  {
   "cell_type": "code",
   "execution_count": 8,
   "metadata": {},
   "outputs": [],
   "source": [
    "regressor2 = RandomForestRegressor(n_estimators=200, random_state=1,max_depth=7,oob_score=True,criterion='absolute_error',bootstrap=True)\n",
    "y2 = train(regressor2,X_train=train_X,y_train=train_Y2)"
   ]
  },
  {
   "cell_type": "code",
   "execution_count": null,
   "metadata": {},
   "outputs": [],
   "source": [
    "regressor3 = RandomForestRegressor(n_estimators=100, random_state=1,max_depth=7,oob_score=True,criterion='absolute_error',bootstrap=True)\n",
    "y3 = train(regressor3,X_train=train_X,y_train=train_Y3)"
   ]
  },
  {
   "cell_type": "code",
   "execution_count": null,
   "metadata": {},
   "outputs": [],
   "source": [
    "regressor4 = RandomForestRegressor(n_estimators=100, random_state=1,max_depth=7,oob_score=True,criterion='absolute_error',bootstrap=True)\n",
    "y4 = train(regressor4,X_train=train_X,y_train=train_Y4)"
   ]
  },
  {
   "cell_type": "code",
   "execution_count": null,
   "metadata": {},
   "outputs": [],
   "source": [
    "#可视化\n",
    "from six import StringIO\n",
    "from IPython.display import Image\n",
    "from sklearn.tree import export_graphviz\n",
    "import pydotplus\n",
    "import os\n",
    "\n",
    "# 执行一次\n",
    "os.environ['PATH'] = os.environ['PATH']+';'+\"D:/Graphviz/bin/\"\n",
    "dot_data1 = StringIO()\n",
    "export_graphviz(regressor1.estimators_[0],\n",
    "                out_file=dot_data1)\n",
    "graph = pydotplus.graph_from_dot_data(dot_data1.getvalue())\n",
    "graph.write_png('tree1.png')\n",
    "Image(graph.create_png())\n",
    "\n",
    "dot_data2 = StringIO()\n",
    "export_graphviz(regressor2.estimators_[0],\n",
    "                out_file=dot_data2)\n",
    "graph = pydotplus.graph_from_dot_data(dot_data2.getvalue())\n",
    "graph.write_png('tree2.png')\n",
    "Image(graph.create_png())\n",
    "\n",
    "dot_data3 = StringIO()\n",
    "export_graphviz(regressor3.estimators_[0],\n",
    "                out_file=dot_data3)\n",
    "graph = pydotplus.graph_from_dot_data(dot_data3.getvalue())\n",
    "graph.write_png('tree3.png')\n",
    "Image(graph.create_png())\n",
    "\n",
    "dot_data4 = StringIO()\n",
    "export_graphviz(regressor4.estimators_[0],\n",
    "                out_file=dot_data4)\n",
    "graph = pydotplus.graph_from_dot_data(dot_data4.getvalue())\n",
    "graph.write_png('tree4.png')\n",
    "Image(graph.create_png())"
   ]
  },
  {
   "cell_type": "code",
   "execution_count": null,
   "metadata": {},
   "outputs": [],
   "source": [
    "pd.concat([y1,y2,y3,y4],axis=1,ignore_index=False)"
   ]
  }
 ],
 "metadata": {
  "kernelspec": {
   "display_name": "base",
   "language": "python",
   "name": "python3"
  },
  "language_info": {
   "codemirror_mode": {
    "name": "ipython",
    "version": 3
   },
   "file_extension": ".py",
   "mimetype": "text/x-python",
   "name": "python",
   "nbconvert_exporter": "python",
   "pygments_lexer": "ipython3",
   "version": "3.9.12 (main, Apr  4 2022, 05:22:27) [MSC v.1916 64 bit (AMD64)]"
  },
  "orig_nbformat": 4,
  "vscode": {
   "interpreter": {
    "hash": "b09ec625f77bf4fd762565a912b97636504ad6ec901eb2d0f4cf5a7de23e1ee5"
   }
  }
 },
 "nbformat": 4,
 "nbformat_minor": 2
}
