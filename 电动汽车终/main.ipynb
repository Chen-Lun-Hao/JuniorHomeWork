{
 "cells": [
  {
   "cell_type": "code",
   "execution_count": null,
   "metadata": {},
   "outputs": [],
   "source": [
    "#读取结点\n",
    "import os\n",
    "import sys\n",
    "import Vertex\n",
    "f = open('./节点.txt',encoding='utf-8')\n",
    "lines = f.readlines()\n",
    "VertexList = list()\n",
    "for line in lines[1:]:\n",
    "    line = list(map(float,line.strip().split()))\n",
    "    VertexList.append(Vertex(line[0], line[1], line[2]))\n",
    "f.close()"
   ]
  },
  {
   "cell_type": "code",
   "execution_count": null,
   "metadata": {},
   "outputs": [],
   "source": [
    "#赋予节点属性\n",
    "f = open('./result1234.txt',encoding='utf-8')\n",
    "maxlane = 0.\n",
    "minlane = 999.\n",
    "lines = f.readlines()\n",
    "for i in range(len(lines)):\n",
    "    line = list(map(float,lines[i+1].strip().split()))\n",
    "    if line[0] > maxlane:\n",
    "        maxlane = line[0]\n",
    "    if line[0] < minlane:\n",
    "        minlane = line[0]\n",
    "    VertexList[i].setValue(line)\n",
    "f.close()"
   ]
  },
  {
   "cell_type": "code",
   "execution_count": null,
   "metadata": {},
   "outputs": [],
   "source": [
    "#连接节点，只需要节点终点即可\n",
    "import math\n",
    "f = open('./links.txt', encoding='utf-8')\n",
    "lines = f.readlines()\n",
    "edgelist = list()\n",
    "for line in lines:\n",
    "    line = list(map(int,lines[i+1].strip().split()))\n",
    "    length = math.sqrt(sum([(a - b)**2 for (a,b) in zip(VertexList[line[1]-1].id, VertexList[line[0]-1].id)]))\n",
    "    edgelist.append((line[0],line[1],length))\n",
    "f.close()"
   ]
  },
  {
   "cell_type": "code",
   "execution_count": null,
   "metadata": {},
   "outputs": [],
   "source": [
    "#构建图,内部使用build方法构建邻接表\n",
    "import Graph\n",
    "MyGraph = Graph(VertexList, edgelist,maxlane,minlane)\n",
    "#计算重要度\n",
    "MyGraph.Vimportance()\n",
    "#收缩"
   ]
  }
 ],
 "metadata": {
  "kernelspec": {
   "display_name": "base",
   "language": "python",
   "name": "python3"
  },
  "language_info": {
   "codemirror_mode": {
    "name": "ipython",
    "version": 3
   },
   "file_extension": ".py",
   "mimetype": "text/x-python",
   "name": "python",
   "nbconvert_exporter": "python",
   "pygments_lexer": "ipython3",
   "version": "3.9.12 (main, Apr  4 2022, 05:22:27) [MSC v.1916 64 bit (AMD64)]"
  },
  "orig_nbformat": 4,
  "vscode": {
   "interpreter": {
    "hash": "b09ec625f77bf4fd762565a912b97636504ad6ec901eb2d0f4cf5a7de23e1ee5"
   }
  }
 },
 "nbformat": 4,
 "nbformat_minor": 2
}
